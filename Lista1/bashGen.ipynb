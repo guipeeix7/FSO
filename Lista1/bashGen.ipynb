{
 "cells": [
  {
   "cell_type": "code",
   "execution_count": 15,
   "metadata": {},
   "outputs": [
    {
     "name": "stdout",
     "output_type": "stream",
     "text": [
      "cmd entry: ['C:\\\\Users\\\\guilh\\\\AppData\\\\Local\\\\Packages\\\\PythonSoftwareFoundation.Python.3.9_qbz5n2kfra8p0\\\\LocalCache\\\\local-packages\\\\Python39\\\\site-packages\\\\ipykernel_launcher.py', '--ip=127.0.0.1', '--stdin=9003', '--control=9001', '--hb=9000', '--Session.signature_scheme=\"hmac-sha256\"', '--Session.key=b\"928f5247-20c8-4597-b9e8-bfe6e659b500\"', '--shell=9002', '--transport=\"tcp\"', '--iopub=9004', '--f=c:\\\\Users\\\\guilh\\\\AppData\\\\Roaming\\\\jupyter\\\\runtime\\\\kernel-v2-19384RNn8x8upFeCk.json']\n",
      "kill -s 2 0\n",
      "kill -s 2 0\n",
      "kill -s 10 0\n",
      "kill -s 2 0\n",
      "kill -s 12 0\n",
      "kill -s 15 0\n",
      "kill -s 10 0\n"
     ]
    }
   ],
   "source": [
    "import sys\n",
    "\n",
    "print('cmd entry:', sys.argv)\n",
    "\n",
    "bashPocess = 0\n",
    "\n",
    "myString = \"\"\"SIGINT\n",
    "SIGTERM\n",
    "SIGUSR1\n",
    "SIGTERM\n",
    "SIGUSR2\n",
    "SIGALRM\n",
    "SIGINT\"\"\"\n",
    "\n",
    "sigDict = {\n",
    "    'SIGHUP' : 1, \n",
    "    'SIGINT' : 2,  \n",
    "    'SIGUSR1' : 10,\n",
    "    'SIGTERM' : 15, \n",
    "    'SIGUSR2' : 12,\n",
    "    'SIGALRM' : 14,\n",
    "}\n",
    "f = open(\"bash.sh\", \"a\")\n",
    "\n",
    "for sig in myString.split('\\n'): \n",
    "    f = open(\"bash.sh\", \"a\")\n",
    "    f.write(\"kill -s \"+str(sigDict[sig])+\" \"+str(bashPocess))\n",
    "    f.close()\n",
    "\n",
    "\n",
    "# \t 2) \t 3) SIGQUIT\t 4) SIGILL\n",
    "#  5) SIGTRAP\t 6) SIGABRT\t 7) SIGBUS\t 8) SIGFPE\n",
    "#  9) SIGKILL\t10) SIGUSR1\t11) SIGSEGV\t12) SIGUSR2\n",
    "# 13) SIGPIPE\t14) SIGALRM\t15) SIGTERM\t16) SIGSTKFLT\n",
    "# 17) SIGCHLD\t18) SIGCONT\t19) SIGSTOP\t20) SIGTSTP\n",
    "# 21) SIGTTIN\t22) SIGTTOU\t23) SIGURG\t24) SIGXCPU\n",
    "# 25) SIGXFSZ\t26) SIGVTALRM\t27) SIGPROF\t28) SIGWINCH\n",
    "# 29) SIGIO\t30) SIGPWR\t31) SIGSYS\t34) SIGRTMIN\n",
    "# 35) SIGRTMIN+1\t36) SIGRTMIN+2\t37) SIGRTMIN+3\t38) SIGRTMIN+4\n",
    "# 39) SIGRTMIN+5\t40) SIGRTMIN+6\t41) SIGRTMIN+7\t42) SIGRTMIN+8\n",
    "# 43) SIGRTMIN+9\t44) SIGRTMIN+10\t45) SIGRTMIN+11\t46) SIGRTMIN+12\n",
    "# 47) SIGRTMIN+13\t48) SIGRTMIN+14\t49) SIGRTMIN+15\t50) SIGRTMAX-14\n",
    "# 51) SIGRTMAX-13\t52) SIGRTMAX-12\t53) SIGRTMAX-11\t54) SIGRTMAX-10\n",
    "# 55) SIGRTMAX-9\t56) SIGRTMAX-8\t57) SIGRTMAX-7\t58) SIGRTMAX-6\n",
    "# 59) SIGRTMAX-5\t60) SIGRTMAX-4\t61) SIGRTMAX-3\t62) SIGRTMAX-2\n",
    "# 63) SIGRTMAX-1\t64) SIGRTMAX\n",
    "\n",
    "# print(myString)\n",
    "# kill -s 9 143"
   ]
  }
 ],
 "metadata": {
  "kernelspec": {
   "display_name": "Python 3.9.13 64-bit (windows store)",
   "language": "python",
   "name": "python3"
  },
  "language_info": {
   "codemirror_mode": {
    "name": "ipython",
    "version": 3
   },
   "file_extension": ".py",
   "mimetype": "text/x-python",
   "name": "python",
   "nbconvert_exporter": "python",
   "pygments_lexer": "ipython3",
   "version": "3.9.13"
  },
  "orig_nbformat": 4,
  "vscode": {
   "interpreter": {
    "hash": "2071d3194773da0b7208f69b73c4de383a3fc09a5bb2861468522ca41ae8c334"
   }
  }
 },
 "nbformat": 4,
 "nbformat_minor": 2
}
